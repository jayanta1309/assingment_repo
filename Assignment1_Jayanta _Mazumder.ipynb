{
 "cells": [
  {
   "cell_type": "markdown",
   "metadata": {},
   "source": [
    "   # Assingment of Jayanta Mazumder"
   ]
  },
  {
   "cell_type": "code",
   "execution_count": 3,
   "metadata": {},
   "outputs": [
    {
     "name": "stdout",
     "output_type": "stream",
     "text": [
      "Hello world!\n"
     ]
    }
   ],
   "source": [
    "print('Hello world!')"
   ]
  },
  {
   "cell_type": "markdown",
   "metadata": {},
   "source": [
    "#### Declare the following variables: Int, Float,  String & print its value."
   ]
  },
  {
   "cell_type": "code",
   "execution_count": 12,
   "metadata": {
    "scrolled": true
   },
   "outputs": [
    {
     "name": "stdout",
     "output_type": "stream",
     "text": [
      "120\n",
      "<class 'int'>\n",
      "1.2\n",
      "<class 'float'>\n",
      "I am Jayanta.\n",
      "<class 'str'>\n"
     ]
    }
   ],
   "source": [
    "var_int  = 120\n",
    "var_float =1.20\n",
    "var_String = \"I am Jayanta.\"\n",
    "\n",
    "print(var_int)\n",
    "print(type(var_int))\n",
    "print(var_float)\n",
    "print(type(var_float))\n",
    "print(var_String)\n",
    "print(type(var_String))"
   ]
  },
  {
   "cell_type": "markdown",
   "metadata": {},
   "source": [
    "#### Boolean"
   ]
  },
  {
   "cell_type": "code",
   "execution_count": 21,
   "metadata": {},
   "outputs": [
    {
     "name": "stdout",
     "output_type": "stream",
     "text": [
      "True\n",
      "False\n"
     ]
    }
   ],
   "source": [
    "print( 5 <= 6) \n",
    "print(7 != 7 )"
   ]
  },
  {
   "cell_type": "markdown",
   "metadata": {},
   "source": [
    "#### Program to find the area of a triangle"
   ]
  },
  {
   "cell_type": "code",
   "execution_count": 57,
   "metadata": {
    "scrolled": true
   },
   "outputs": [
    {
     "name": "stdout",
     "output_type": "stream",
     "text": [
      "Input the base : 13\n",
      "Input the height: 12\n",
      "area of a trianlge is==> 30.0\n"
     ]
    }
   ],
   "source": [
    "#the formula to calculate area of triangle is (1/2)*base*height\n",
    "Breadth=int(input(\"Input the base : \"))\n",
    "Height=int(input(\"Input the height: \"))\n",
    "area=breadth*height/2\n",
    "print('area of a trianlge is==>',area)"
   ]
  },
  {
   "cell_type": "markdown",
   "metadata": {},
   "source": [
    "#### Program to swap two variables"
   ]
  },
  {
   "cell_type": "code",
   "execution_count": 6,
   "metadata": {},
   "outputs": [
    {
     "name": "stdout",
     "output_type": "stream",
     "text": [
      "before swap a is 10 and b is 20\n",
      "after swap a is 20 and b is 10\n"
     ]
    }
   ],
   "source": [
    "a,b=10,20\n",
    "print('before swap','a is',a,'and b is',b)\n",
    "a,b=b,a\n",
    "print('after swap','a is',a,'and b is',b)"
   ]
  },
  {
   "cell_type": "markdown",
   "metadata": {},
   "source": [
    "#### Program is to check if a number is positive, negative or 0 (Using If...elif...else)"
   ]
  },
  {
   "cell_type": "code",
   "execution_count": 48,
   "metadata": {},
   "outputs": [
    {
     "name": "stdout",
     "output_type": "stream",
     "text": [
      "9 is a positive number.\n"
     ]
    }
   ],
   "source": [
    "n = 9\n",
    "if n > 0:\n",
    "    print('{} is a positive number.'.format(n))\n",
    "elif n < 0:\n",
    "    print('{} is a negative number.'.format(n))\n",
    "else:\n",
    "    print('Zero.')"
   ]
  },
  {
   "cell_type": "markdown",
   "metadata": {},
   "source": [
    "#### Program to print Odd number within a given range"
   ]
  },
  {
   "cell_type": "code",
   "execution_count": 49,
   "metadata": {},
   "outputs": [
    {
     "name": "stdout",
     "output_type": "stream",
     "text": [
      "1 3 5 7 9 "
     ]
    }
   ],
   "source": [
    "start, end = 1, 9\n",
    "for num in range(start, end + 1):\n",
    "    if num % 2 != 0:\n",
    "        print(num, end = \" \")   "
   ]
  },
  {
   "cell_type": "markdown",
   "metadata": {},
   "source": [
    "##### program to reverse a given number"
   ]
  },
  {
   "cell_type": "code",
   "execution_count": 50,
   "metadata": {},
   "outputs": [
    {
     "name": "stdout",
     "output_type": "stream",
     "text": [
      "enter a number:=>678\n",
      "the reverse of number is:  876\n"
     ]
    }
   ],
   "source": [
    "a=int(input('enter a number:=>'))\n",
    "rev=0\n",
    "while a>0:  \n",
    "    rem=a%10  \n",
    "    rev=rev*10+rem \n",
    "    a=a//10 \n",
    "print('the reverse of number is: ',rev)"
   ]
  },
  {
   "cell_type": "markdown",
   "metadata": {},
   "source": [
    "#### Program is to check if a number is Even or Odd"
   ]
  },
  {
   "cell_type": "code",
   "execution_count": 2,
   "metadata": {},
   "outputs": [
    {
     "name": "stdout",
     "output_type": "stream",
     "text": [
      "Enter a number: 22\n",
      "22 is Even\n"
     ]
    }
   ],
   "source": [
    "num = int(input(\"Enter a number: \"))\n",
    "if (num % 2) == 0:\n",
    "   print(\"{0} is Even\".format(num))\n",
    "else:\n",
    "   print(\"{0} is Odd\".format(num))"
   ]
  },
  {
   "cell_type": "markdown",
   "metadata": {},
   "source": [
    "#### Python program to find the factorial of a number"
   ]
  },
  {
   "cell_type": "code",
   "execution_count": 17,
   "metadata": {},
   "outputs": [
    {
     "name": "stdout",
     "output_type": "stream",
     "text": [
      "enter a number: 6\n",
      "factorial of  6 is:  720\n"
     ]
    }
   ],
   "source": [
    "n=int(input('enter a number: '))\n",
    "f=1\n",
    "if n<0:\n",
    "    print('no factorial for negative number')\n",
    "elif n==0|1:\n",
    "    print('factorial of entered number is 1')\n",
    "elif n>1:\n",
    "    for i in range(1,n+1):\n",
    "        f=f*i\n",
    "    print('factorial of ',n,'is: ',f)"
   ]
  },
  {
   "cell_type": "markdown",
   "metadata": {},
   "source": [
    "#### Program to find out the sum of Natural numbers"
   ]
  },
  {
   "cell_type": "code",
   "execution_count": 21,
   "metadata": {},
   "outputs": [
    {
     "name": "stdout",
     "output_type": "stream",
     "text": [
      "enter number:=> 6\n",
      "21\n"
     ]
    }
   ],
   "source": [
    "n=int(input('enter number:=> '))\n",
    "a=0\n",
    "for i in range(n+1):\n",
    "    a=a+i\n",
    "print(a)"
   ]
  },
  {
   "cell_type": "markdown",
   "metadata": {},
   "source": [
    "#### program to reverse a string without using recursion"
   ]
  },
  {
   "cell_type": "code",
   "execution_count": 22,
   "metadata": {},
   "outputs": [
    {
     "name": "stdout",
     "output_type": "stream",
     "text": [
      "enter a string:=>Jayanta\n",
      "atnayaJ\n"
     ]
    }
   ],
   "source": [
    "Jay=input('enter a string:=>')\n",
    "Jay1=''\n",
    "for i in Jay:  \n",
    "    Jay1=i+Jay1\n",
    "print(Jay1)\n"
   ]
  },
  {
   "cell_type": "markdown",
   "metadata": {},
   "source": [
    "#### program to check the string is palindrome or not"
   ]
  },
  {
   "cell_type": "code",
   "execution_count": 25,
   "metadata": {},
   "outputs": [
    {
     "name": "stdout",
     "output_type": "stream",
     "text": [
      "enter a string:=> MADAM\n",
      "entered string is palindrome\n"
     ]
    }
   ],
   "source": [
    "J=input('enter a string:=> ')\n",
    "if J[:]==J[::-1]:\n",
    "    print('entered string is palindrome')\n",
    "else:\n",
    "    print('entered string is not a palindrome')"
   ]
  },
  {
   "cell_type": "markdown",
   "metadata": {},
   "source": [
    "#### Python Program to Replace all Occurrences of ‘a’ with $ in a String"
   ]
  },
  {
   "cell_type": "code",
   "execution_count": 29,
   "metadata": {},
   "outputs": [
    {
     "name": "stdout",
     "output_type": "stream",
     "text": [
      "enter a number:=> jayanta\n",
      "j$y$nt$\n"
     ]
    }
   ],
   "source": [
    "p=input('enter a number:=> ')\n",
    "print(p.replace('a','$'))"
   ]
  },
  {
   "cell_type": "code",
   "execution_count": null,
   "metadata": {},
   "outputs": [],
   "source": [
    "#Python Program to Count the Number of Vowels in a String"
   ]
  },
  {
   "cell_type": "code",
   "execution_count": 30,
   "metadata": {},
   "outputs": [
    {
     "name": "stdout",
     "output_type": "stream",
     "text": [
      "enter a string:=>i am writing python program\n",
      "the number of vowels in the given string are:=>  7\n"
     ]
    }
   ],
   "source": [
    "j=input('enter a string:=>')\n",
    "count=0\n",
    "for i in j:\n",
    "    if i in ['a','e','i','o','u']:\n",
    "        count+=1\n",
    "print('the number of vowels in the given string are:=> ',count)"
   ]
  },
  {
   "cell_type": "markdown",
   "metadata": {},
   "source": [
    "#### input two strings and display the largest string without using inbuilt functions"
   ]
  },
  {
   "cell_type": "code",
   "execution_count": 31,
   "metadata": {},
   "outputs": [
    {
     "name": "stdout",
     "output_type": "stream",
     "text": [
      "enter first string1:=>python\n",
      "enter second string2: =>tableau\n",
      "string2 is greater than string1:=> tableau\n"
     ]
    }
   ],
   "source": [
    "s1=input('enter first string1:=>')\n",
    "s2=input('enter second string2: =>')\n",
    "count1=0\n",
    "count2=0\n",
    "for i in s1:\n",
    "    count1+=1\n",
    "for j in s2:\n",
    "    count2+=1\n",
    "if count1>count2:\n",
    "    print('string1 is greater than string2:=>',s1)\n",
    "elif count2>count1:\n",
    "    print('string2 is greater than string1:=>',s2)\n",
    "else:\n",
    "    print('both string1 and string2 are equal:=>',s1, 'and',s2)\n"
   ]
  },
  {
   "cell_type": "markdown",
   "metadata": {},
   "source": [
    "##### Count the number of digits & letter in a string:"
   ]
  },
  {
   "cell_type": "code",
   "execution_count": 32,
   "metadata": {},
   "outputs": [
    {
     "name": "stdout",
     "output_type": "stream",
     "text": [
      "enter the string:=>JAYANTA1309\n",
      "the number of digits are:=> 4\n",
      "the number of characters are:=> 7\n"
     ]
    }
   ],
   "source": [
    "g1=input('enter the string:=>')\n",
    "count1=0\n",
    "count2=0\n",
    "for i in g1:\n",
    "    if i.isdigit():\n",
    "        count1+=1\n",
    "    else:\n",
    "        i.isalpha()\n",
    "        count2+=1\n",
    "print('the number of digits are:=>',count1)\n",
    "print('the number of characters are:=>',count2)"
   ]
  },
  {
   "cell_type": "markdown",
   "metadata": {},
   "source": [
    "#### Count Number of Lowercase Characters in a String"
   ]
  },
  {
   "cell_type": "code",
   "execution_count": 35,
   "metadata": {},
   "outputs": [
    {
     "name": "stdout",
     "output_type": "stream",
     "text": [
      "enter a string:=>JAyAnTa\n",
      "the number of lower case chars in a given string are:=>  3\n"
     ]
    }
   ],
   "source": [
    "\n",
    "g=input('enter a string:=>')\n",
    "count=0\n",
    "for i in g:\n",
    "    if i.islower():\n",
    "        count+=1\n",
    "print('the number of lower case chars in a given string are:=> ', count)"
   ]
  },
  {
   "cell_type": "markdown",
   "metadata": {},
   "source": [
    " #### Program to check if a Substring is Present in a Given String"
   ]
  },
  {
   "cell_type": "code",
   "execution_count": 36,
   "metadata": {},
   "outputs": [
    {
     "name": "stdout",
     "output_type": "stream",
     "text": [
      "enter first string:=>JAYANTA\n",
      "enter second string:=>JAY\n",
      "substring is present in the given string\n"
     ]
    }
   ],
   "source": [
    "j1=input('enter first string:=>')\n",
    "j2=input('enter second string:=>')\n",
    "if j1.find(j2)==-1:\n",
    "    print('substring is not present in the main string')\n",
    "else:\n",
    "    print('substring is present in the given string')"
   ]
  },
  {
   "cell_type": "markdown",
   "metadata": {},
   "source": [
    "#### Program to Find the Largest Number in a List"
   ]
  },
  {
   "cell_type": "code",
   "execution_count": 39,
   "metadata": {},
   "outputs": [
    {
     "name": "stdout",
     "output_type": "stream",
     "text": [
      "the largest number in a list is:=> 243\n"
     ]
    }
   ],
   "source": [
    "L=[10,20,14,23,46,78,98,87,243,114]\n",
    "L.sort()\n",
    "print('the largest number in a list is:=>',L[-1])"
   ]
  },
  {
   "cell_type": "markdown",
   "metadata": {},
   "source": [
    "##### Program to Put Even and Odd elements in a List into Two Different Lists"
   ]
  },
  {
   "cell_type": "code",
   "execution_count": 41,
   "metadata": {},
   "outputs": [
    {
     "name": "stdout",
     "output_type": "stream",
     "text": [
      "the list with even numbers:=> [12, 14, 22, 54, 66, 78, 98, 112]\n",
      "the list with odd numbers:=> [13, 19, 43, 15, 17]\n"
     ]
    }
   ],
   "source": [
    "L1=[12,13,14,19,22,43,54,66,78,98,112,15,17]\n",
    "L2=[]\n",
    "L3=[]\n",
    "for i in L1:\n",
    "    if i%2==0:\n",
    "        L2.append(i)\n",
    "    else:\n",
    "        L3.append(i)\n",
    "print('the list with even numbers:=>',L2)\n",
    "print('the list with odd numbers:=>',L3)"
   ]
  },
  {
   "cell_type": "markdown",
   "metadata": {},
   "source": [
    "#### Program to Read a List of Words and Return the Length of the Longest One"
   ]
  },
  {
   "cell_type": "code",
   "execution_count": 45,
   "metadata": {},
   "outputs": [
    {
     "name": "stdout",
     "output_type": "stream",
     "text": [
      "The word with the longest length is: jayanta  and length is  7\n"
     ]
    }
   ],
   "source": [
    "a = [\"one\", \"two\", \"third\", \"four\",'jayanta'] \n",
    "max1 = len(a[0]) \n",
    "temp = '' \n",
    "for i in a: \n",
    "    if(len(i) > max1): \n",
    "        max1 = len(i) \n",
    "        temp = i \n",
    "print(\"The word with the longest length is:\", temp, \" and length is \", max1) "
   ]
  },
  {
   "cell_type": "markdown",
   "metadata": {},
   "source": [
    "#### Create a List of Tuples with the First Element as the Number and Second Element as the # Square of the Number"
   ]
  },
  {
   "cell_type": "code",
   "execution_count": 46,
   "metadata": {},
   "outputs": [
    {
     "name": "stdout",
     "output_type": "stream",
     "text": [
      "enter numbers with spaces:=>1 2 3 4 67\n",
      "[(1, 1), (2, 4), (3, 9), (4, 16), (67, 4489)]\n"
     ]
    }
   ],
   "source": [
    "L=input('enter numbers with spaces:=>')\n",
    "L=L.split()\n",
    "L1=list(map(lambda x:int(x),L))\n",
    "L2=[]\n",
    "for i in L1:\n",
    "    L2.append(i*i)\n",
    "print(list(zip(L1,L2)))"
   ]
  },
  {
   "cell_type": "markdown",
   "metadata": {},
   "source": [
    "#### Program to Remove the Duplicate Items from a List"
   ]
  },
  {
   "cell_type": "code",
   "execution_count": 47,
   "metadata": {},
   "outputs": [
    {
     "name": "stdout",
     "output_type": "stream",
     "text": [
      "the list after removing duplicates is:=> [1, 2, 3, 4, 5]\n"
     ]
    }
   ],
   "source": [
    "L=[1,1,1,1,2,2,2,3,3,3,4,4,5,5,5,5,5,5]\n",
    "L1=[]\n",
    "for i in L:\n",
    "    if i not in L1:\n",
    "        L1.append(i)\n",
    "print('the list after removing duplicates is:=>',L1)"
   ]
  },
  {
   "cell_type": "markdown",
   "metadata": {},
   "source": [
    "##### Program to Check if a Given Key Exists in a Dictionary or Not:"
   ]
  },
  {
   "cell_type": "code",
   "execution_count": 9,
   "metadata": {},
   "outputs": [
    {
     "name": "stdout",
     "output_type": "stream",
     "text": [
      "country\n",
      "key exists\n"
     ]
    }
   ],
   "source": [
    "d={'country':'India',(1,2):[3,4],(12,15):{12,13},(123,124):{25:'Delhi'},123:'pin',12.5:{11:22}}\n",
    "l = []\n",
    "for i in d.keys():\n",
    "    l.append(str(i).replace(' ', '') )\n",
    "k = input()\n",
    "if k in l:\n",
    "    print(\"key exists\")\n",
    "else:\n",
    "    print(\"key not exists\")"
   ]
  },
  {
   "cell_type": "markdown",
   "metadata": {},
   "source": [
    "#### Program to Sum All the Items in a Dictionary:"
   ]
  },
  {
   "cell_type": "code",
   "execution_count": 10,
   "metadata": {},
   "outputs": [
    {
     "name": "stdout",
     "output_type": "stream",
     "text": [
      "the sum of each item is:=> 27\n",
      "the sum of each item is:=> 68\n",
      "the sum of each item is:=> 345\n"
     ]
    }
   ],
   "source": [
    "d={12:15,23:45,111:234}\n",
    "for k,j in d.items():\n",
    "    print('the sum of each item is:=>',k+j)"
   ]
  },
  {
   "cell_type": "markdown",
   "metadata": {},
   "source": [
    "#### Program to Remove the Given Key from a Dictionary"
   ]
  },
  {
   "cell_type": "code",
   "execution_count": 11,
   "metadata": {},
   "outputs": [
    {
     "name": "stdout",
     "output_type": "stream",
     "text": [
      "enter a key:=>state\n",
      "{'country': 'India', 'State': 'West bengal', 'city': 'Kolkata'}\n"
     ]
    }
   ],
   "source": [
    "d={'country':'India','State':'West bengal','city':'Kolkata'}\n",
    "i=input('enter a key:=>')\n",
    "if i in d:\n",
    "    d.pop(i)\n",
    "print(d)"
   ]
  },
  {
   "cell_type": "markdown",
   "metadata": {},
   "source": [
    "##### Write a Python program to iterate over dictionaries using for loops:"
   ]
  },
  {
   "cell_type": "code",
   "execution_count": 13,
   "metadata": {},
   "outputs": [
    {
     "name": "stdout",
     "output_type": "stream",
     "text": [
      "country India\n",
      "(1, 2) [3, 4]\n",
      "(12, 15) {12, 13}\n",
      "(123, 124) {25: 'Delhi'}\n",
      "123 pin\n",
      "12.5 {11: 22}\n"
     ]
    }
   ],
   "source": [
    "d={'country':'India',(1,2):[3,4],(12,15):{12,13},(123,124):{25:'Delhi'},123:'pin',12.5:{11:22}}\n",
    "for i,j in d.items():\n",
    "    print(i,j)"
   ]
  },
  {
   "cell_type": "markdown",
   "metadata": {},
   "source": [
    "#### Write a Python program to sort a dictionary by key"
   ]
  },
  {
   "cell_type": "code",
   "execution_count": 14,
   "metadata": {},
   "outputs": [
    {
     "name": "stdout",
     "output_type": "stream",
     "text": [
      "[(11, 111), (12, 15), (23, 45), (111, 234)]\n"
     ]
    }
   ],
   "source": [
    "d={12:15,23:45,111:234,11:111}\n",
    "print(sorted(d.items()))\n"
   ]
  }
 ],
 "metadata": {
  "kernelspec": {
   "display_name": "Python 3",
   "language": "python",
   "name": "python3"
  },
  "language_info": {
   "codemirror_mode": {
    "name": "ipython",
    "version": 3
   },
   "file_extension": ".py",
   "mimetype": "text/x-python",
   "name": "python",
   "nbconvert_exporter": "python",
   "pygments_lexer": "ipython3",
   "version": "3.8.5"
  }
 },
 "nbformat": 4,
 "nbformat_minor": 4
}
